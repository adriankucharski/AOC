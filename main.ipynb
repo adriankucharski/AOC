{
 "cells": [
  {
   "cell_type": "code",
   "execution_count": 1,
   "metadata": {},
   "outputs": [],
   "source": [
    "import PIL.Image\n",
    "from PIL import Image, ImageTk\n",
    "from typing import Tuple\n",
    "from tkinter import *\n",
    "import cv2"
   ]
  },
  {
   "cell_type": "code",
   "execution_count": 2,
   "metadata": {},
   "outputs": [
    {
     "name": "stdout",
     "output_type": "stream",
     "text": [
      "------------------\n",
      "458 154\n",
      "463 692\n",
      "[308. 916. 468. 618.]\n",
      "0.01600503921508789\n",
      "0.01300358772277832\n",
      "0.012002706527709961\n",
      "0.012000083923339844\n",
      "0.011003732681274414\n",
      "0.011002063751220703\n",
      "0.013003110885620117\n",
      "0.012001514434814453\n",
      "0.011003255844116211\n",
      "0.011001825332641602\n",
      "0.014002799987792969\n",
      "0.01200103759765625\n",
      "0.01200246810913086\n",
      "0.01900482177734375\n",
      "0.011002779006958008\n",
      "0.01300191879272461\n",
      "0.013002157211303711\n",
      "0.010001420974731445\n",
      "0.009002208709716797\n",
      "0.010002613067626953\n",
      "0.009994983673095703\n",
      "0.011000394821166992\n",
      "0.011000394821166992\n",
      "0.010002851486206055\n",
      "0.009001970291137695\n",
      "0.011002779006958008\n",
      "0.011002302169799805\n",
      "0.011002302169799805\n",
      "0.011002779006958008\n",
      "0.012002229690551758\n",
      "0.009001016616821289\n",
      "0.01000213623046875\n",
      "0.009002208709716797\n",
      "0.009001493453979492\n",
      "0.01600360870361328\n",
      "0.010000944137573242\n",
      "0.010002613067626953\n",
      "0.012003183364868164\n",
      "0.010001897811889648\n",
      "0.009001016616821289\n",
      "0.01000213623046875\n",
      "0.010001659393310547\n",
      "0.008002042770385742\n",
      "0.010001182556152344\n",
      "0.009001970291137695\n",
      "0.010002374649047852\n",
      "0.009001493453979492\n",
      "0.009001493453979492\n"
     ]
    }
   ],
   "source": [
    "%reload_ext ObjectTracker\n",
    "%reload_ext PickerApp\n",
    "from ObjectTracker import ObjectTracker\n",
    "from PickerApp import PickerApp\n",
    "\n",
    "stride = 6\n",
    "margin = 30\n",
    "scale_factor = 0.5\n",
    "video = cv2.VideoCapture(\"videos/full_hd_man.mp4\")\n",
    "\n",
    "root = Tk()\n",
    "app = PickerApp(root, video, scale_factor)\n",
    "root.mainloop()\n",
    "\n",
    "box = app.get_box()\n",
    "print(box)\n",
    "\n",
    "ObjectTracker(video, box, stride=stride, margin=margin, scale_factor=scale_factor, debug=True).track()"
   ]
  }
 ],
 "metadata": {
  "kernelspec": {
   "display_name": "Python 3",
   "language": "python",
   "name": "python3"
  },
  "language_info": {
   "codemirror_mode": {
    "name": "ipython",
    "version": 3
   },
   "file_extension": ".py",
   "mimetype": "text/x-python",
   "name": "python",
   "nbconvert_exporter": "python",
   "pygments_lexer": "ipython3",
   "version": "3.10.5"
  },
  "orig_nbformat": 4,
  "vscode": {
   "interpreter": {
    "hash": "6a48581e28d45680af6ef7ae6138d429f6e20aecedaea2d4b58ab16969b43f7e"
   }
  }
 },
 "nbformat": 4,
 "nbformat_minor": 2
}
