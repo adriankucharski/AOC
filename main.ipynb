{
 "cells": [
  {
   "cell_type": "code",
   "execution_count": 1,
   "metadata": {},
   "outputs": [],
   "source": [
    "import PIL.Image\n",
    "from PIL import Image, ImageTk\n",
    "from typing import Tuple\n",
    "from tkinter import *\n",
    "import cv2"
   ]
  },
  {
   "cell_type": "code",
   "execution_count": 2,
   "metadata": {},
   "outputs": [
    {
     "name": "stdout",
     "output_type": "stream",
     "text": [
      "------------------\n",
      "483 159\n",
      "459 696\n",
      "[318. 966. 426. 600.]\n",
      "0.014003515243530273\n",
      "0.01000213623046875\n",
      "0.008999109268188477\n",
      "0.009001970291137695\n",
      "0.008002519607543945\n",
      "0.01000356674194336\n",
      "0.011003255844116211\n",
      "0.011000633239746094\n",
      "0.00999903678894043\n",
      "0.009002208709716797\n",
      "0.00999760627746582\n",
      "0.012002706527709961\n",
      "0.009002923965454102\n",
      "0.009999752044677734\n",
      "0.01000213623046875\n",
      "0.011001825332641602\n",
      "0.009002208709716797\n",
      "0.009999990463256836\n",
      "0.010002613067626953\n",
      "0.009002208709716797\n",
      "0.010002374649047852\n",
      "0.011000633239746094\n",
      "0.011002302169799805\n",
      "0.00999903678894043\n",
      "0.014002561569213867\n",
      "0.009002685546875\n",
      "0.012002229690551758\n",
      "0.010002374649047852\n",
      "0.009002208709716797\n",
      "0.009001731872558594\n",
      "0.010002613067626953\n",
      "0.009002685546875\n",
      "0.010001897811889648\n",
      "0.009001493453979492\n",
      "0.009002685546875\n",
      "0.008000850677490234\n",
      "0.009000301361083984\n",
      "0.009002208709716797\n",
      "0.010001420974731445\n",
      "0.009001970291137695\n",
      "0.0070018768310546875\n",
      "0.008002042770385742\n",
      "0.008002519607543945\n",
      "0.01600337028503418\n",
      "0.012003183364868164\n",
      "0.010002374649047852\n",
      "0.009002447128295898\n",
      "0.011001110076904297\n",
      "0.008000373840332031\n",
      "0.007001399993896484\n",
      "0.009002685546875\n",
      "0.009001731872558594\n",
      "0.00800180435180664\n",
      "0.009064912796020508\n",
      "0.009002447128295898\n"
     ]
    }
   ],
   "source": [
    "%reload_ext ObjectTracker\n",
    "%reload_ext PickerApp\n",
    "from ObjectTracker import ObjectTracker\n",
    "from PickerApp import PickerApp\n",
    "\n",
    "stride = 6\n",
    "margin = 30\n",
    "scale_factor = 0.5\n",
    "video = cv2.VideoCapture(\"videos/full_hd_man.mp4\")\n",
    "\n",
    "root = Tk()\n",
    "app = PickerApp(root, video, scale_factor)\n",
    "root.mainloop()\n",
    "\n",
    "box = app.get_box()\n",
    "print(box)\n",
    "\n",
    "ObjectTracker(video, box, stride=stride, margin=margin, scale_factor=scale_factor, debug=True).track()"
   ]
  }
 ],
 "metadata": {
  "kernelspec": {
   "display_name": "Python 3",
   "language": "python",
   "name": "python3"
  },
  "language_info": {
   "codemirror_mode": {
    "name": "ipython",
    "version": 3
   },
   "file_extension": ".py",
   "mimetype": "text/x-python",
   "name": "python",
   "nbconvert_exporter": "python",
   "pygments_lexer": "ipython3",
   "version": "3.10.5"
  },
  "orig_nbformat": 4,
  "vscode": {
   "interpreter": {
    "hash": "6a48581e28d45680af6ef7ae6138d429f6e20aecedaea2d4b58ab16969b43f7e"
   }
  }
 },
 "nbformat": 4,
 "nbformat_minor": 2
}
