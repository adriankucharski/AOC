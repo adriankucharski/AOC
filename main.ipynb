{
 "cells": [
  {
   "cell_type": "code",
   "execution_count": 1,
   "metadata": {},
   "outputs": [],
   "source": [
    "import PIL.Image\n",
    "from PIL import Image, ImageTk\n",
    "from typing import Tuple\n",
    "from tkinter import *\n",
    "import cv2"
   ]
  },
  {
   "cell_type": "code",
   "execution_count": 2,
   "metadata": {},
   "outputs": [
    {
     "ename": "AttributeError",
     "evalue": "'PickerApp' object has no attribute 'frame'",
     "output_type": "error",
     "traceback": [
      "\u001b[1;31m---------------------------------------------------------------------------\u001b[0m",
      "\u001b[1;31mAttributeError\u001b[0m                            Traceback (most recent call last)",
      "\u001b[1;32mg:\\Studia\\AOC\\main.ipynb Cell 2\u001b[0m in \u001b[0;36m<cell line: 12>\u001b[1;34m()\u001b[0m\n\u001b[0;32m      <a href='vscode-notebook-cell:/g%3A/Studia/AOC/main.ipynb#W0sZmlsZQ%3D%3D?line=8'>9</a>\u001b[0m video \u001b[39m=\u001b[39m cv2\u001b[39m.\u001b[39mVideoCapture(\u001b[39m\"\u001b[39m\u001b[39mvideos/full_hd_man.mp4\u001b[39m\u001b[39m\"\u001b[39m)\n\u001b[0;32m     <a href='vscode-notebook-cell:/g%3A/Studia/AOC/main.ipynb#W0sZmlsZQ%3D%3D?line=10'>11</a>\u001b[0m root \u001b[39m=\u001b[39m Tk()\n\u001b[1;32m---> <a href='vscode-notebook-cell:/g%3A/Studia/AOC/main.ipynb#W0sZmlsZQ%3D%3D?line=11'>12</a>\u001b[0m app \u001b[39m=\u001b[39m PickerApp(root, video, scale_factor)\n\u001b[0;32m     <a href='vscode-notebook-cell:/g%3A/Studia/AOC/main.ipynb#W0sZmlsZQ%3D%3D?line=12'>13</a>\u001b[0m root\u001b[39m.\u001b[39mmainloop()\n\u001b[0;32m     <a href='vscode-notebook-cell:/g%3A/Studia/AOC/main.ipynb#W0sZmlsZQ%3D%3D?line=14'>15</a>\u001b[0m box \u001b[39m=\u001b[39m app\u001b[39m.\u001b[39mget_box()\n",
      "File \u001b[1;32mg:\\Studia\\AOC\\PickerApp.py:47\u001b[0m, in \u001b[0;36mPickerApp.__init__\u001b[1;34m(self, master, video, scale_factor)\u001b[0m\n\u001b[0;32m     45\u001b[0m     ret, frame \u001b[39m=\u001b[39m video\u001b[39m.\u001b[39mread()\n\u001b[0;32m     46\u001b[0m     frame \u001b[39m=\u001b[39m cv2\u001b[39m.\u001b[39mcvtColor(frame, cv2\u001b[39m.\u001b[39mCOLOR_BGR2RGB)\n\u001b[1;32m---> 47\u001b[0m     frame \u001b[39m=\u001b[39m rescale(\u001b[39mself\u001b[39;49m\u001b[39m.\u001b[39;49mframe, \u001b[39mself\u001b[39m\u001b[39m.\u001b[39mscale_factor)\n\u001b[0;32m     48\u001b[0m \u001b[39mif\u001b[39;00m \u001b[39mnot\u001b[39;00m ret:\n\u001b[0;32m     49\u001b[0m     \u001b[39mraise\u001b[39;00m \u001b[39mException\u001b[39;00m(\u001b[39m\"\u001b[39m\u001b[39mVideo stream error\u001b[39m\u001b[39m\"\u001b[39m)\n",
      "\u001b[1;31mAttributeError\u001b[0m: 'PickerApp' object has no attribute 'frame'"
     ]
    }
   ],
   "source": [
    "%reload_ext ObjectTracker\n",
    "%reload_ext PickerApp\n",
    "from ObjectTracker import ObjectTracker\n",
    "from PickerApp import PickerApp\n",
    "\n",
    "stride = 6\n",
    "margin = 30\n",
    "scale_factor = 0.5\n",
    "video = cv2.VideoCapture(\"videos/full_hd_man.mp4\")\n",
    "\n",
    "root = Tk()\n",
    "app = PickerApp(root, video, scale_factor)\n",
    "root.mainloop()\n",
    "\n",
    "box = app.get_box()\n",
    "print(box)\n",
    "\n",
    "ObjectTracker(video, box, stride=stride, margin=margin, scale_factor=scale_factor, debug=True).track()"
   ]
  }
 ],
 "metadata": {
  "kernelspec": {
   "display_name": "Python 3",
   "language": "python",
   "name": "python3"
  },
  "language_info": {
   "codemirror_mode": {
    "name": "ipython",
    "version": 3
   },
   "file_extension": ".py",
   "mimetype": "text/x-python",
   "name": "python",
   "nbconvert_exporter": "python",
   "pygments_lexer": "ipython3",
   "version": "3.10.5"
  },
  "orig_nbformat": 4,
  "vscode": {
   "interpreter": {
    "hash": "6a48581e28d45680af6ef7ae6138d429f6e20aecedaea2d4b58ab16969b43f7e"
   }
  }
 },
 "nbformat": 4,
 "nbformat_minor": 2
}
