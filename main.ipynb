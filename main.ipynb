{
 "cells": [
  {
   "cell_type": "code",
   "execution_count": 3,
   "metadata": {},
   "outputs": [],
   "source": [
    "import PIL.Image\n",
    "from PIL import Image, ImageTk\n",
    "from typing import Tuple\n",
    "from tkinter import *\n",
    "import cv2"
   ]
  },
  {
   "cell_type": "code",
   "execution_count": 4,
   "metadata": {},
   "outputs": [
    {
     "name": "stdout",
     "output_type": "stream",
     "text": [
      "(720, 1280, 3)\n",
      "(720, 1280, 3)\n",
      "0.007001399993896484\n",
      "0.0070018768310546875\n",
      "0.0060007572174072266\n",
      "0.007002115249633789\n",
      "0.0070018768310546875\n",
      "0.008001565933227539\n",
      "0.007002115249633789\n",
      "0.00600123405456543\n",
      "0.007001399993896484\n",
      "0.005999088287353516\n",
      "0.007001638412475586\n",
      "0.007000923156738281\n",
      "0.0070018768310546875\n",
      "0.007001638412475586\n",
      "0.007002115249633789\n",
      "0.007001638412475586\n",
      "0.007002115249633789\n",
      "0.006001472473144531\n",
      "0.008002281188964844\n",
      "0.008001327514648438\n",
      "0.007002115249633789\n",
      "0.007998466491699219\n",
      "0.00599980354309082\n",
      "0.007000446319580078\n",
      "0.007001399993896484\n",
      "0.00800180435180664\n",
      "0.007999897003173828\n",
      "0.0070018768310546875\n",
      "0.007001399993896484\n",
      "0.00700068473815918\n",
      "0.008002519607543945\n",
      "0.006000518798828125\n",
      "0.007002353668212891\n",
      "0.007001399993896484\n",
      "0.00700068473815918\n",
      "0.007001638412475586\n",
      "0.007001399993896484\n",
      "0.00800180435180664\n",
      "0.007001638412475586\n",
      "0.006001472473144531\n",
      "0.010001897811889648\n",
      "0.00600123405456543\n",
      "0.007001638412475586\n",
      "0.0070018768310546875\n",
      "0.007000923156738281\n",
      "0.007000923156738281\n",
      "0.0070018768310546875\n",
      "0.006001472473144531\n",
      "0.007002115249633789\n",
      "0.007003307342529297\n",
      "0.0060007572174072266\n",
      "0.008002042770385742\n",
      "0.0070018768310546875\n",
      "0.00600123405456543\n",
      "0.007001161575317383\n",
      "0.007001161575317383\n",
      "0.0070018768310546875\n",
      "0.007001399993896484\n",
      "0.007001399993896484\n"
     ]
    }
   ],
   "source": [
    "%reload_ext main\n",
    "from main import *\n",
    "\n",
    "scale = 1\n",
    "stride = 4\n",
    "margin = 40\n",
    "\n",
    "video = cv2.VideoCapture(\"videos/billiard_3.mp4\")\n",
    "\n",
    "_, first_frame = video.read()\n",
    "first_frame = preprocess_frame(first_frame, scale=scale)\n",
    "while True:\n",
    "    selected_box = SelectBoxWindow.show_and_get_box(first_frame)\n",
    "    if selected_box[-1] != 0 and selected_box[-2] != 0:\n",
    "        break\n",
    "\n",
    "tracker = ObjectTracker(first_frame, selected_box, stride=stride, margin=margin)\n",
    "show_tracking_animation(video, tracker, scale=scale)"
   ]
  }
 ],
 "metadata": {
  "kernelspec": {
   "display_name": "Python 3",
   "language": "python",
   "name": "python3"
  },
  "language_info": {
   "codemirror_mode": {
    "name": "ipython",
    "version": 3
   },
   "file_extension": ".py",
   "mimetype": "text/x-python",
   "name": "python",
   "nbconvert_exporter": "python",
   "pygments_lexer": "ipython3",
   "version": "3.10.5"
  },
  "orig_nbformat": 4,
  "vscode": {
   "interpreter": {
    "hash": "6a48581e28d45680af6ef7ae6138d429f6e20aecedaea2d4b58ab16969b43f7e"
   }
  }
 },
 "nbformat": 4,
 "nbformat_minor": 2
}
