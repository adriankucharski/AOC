{
 "cells": [
  {
   "cell_type": "code",
   "execution_count": null,
   "metadata": {},
   "outputs": [],
   "source": [
    "import PIL.Image\n",
    "from PIL import Image, ImageTk\n",
    "from typing import Tuple\n",
    "from tkinter import *\n",
    "import cv2\n"
   ]
  },
  {
   "cell_type": "code",
   "execution_count": 7,
   "metadata": {},
   "outputs": [
    {
     "name": "stdout",
     "output_type": "stream",
     "text": [
      "(720, 1280, 3)\n",
      "(324, 197, 38, 36)\n"
     ]
    }
   ],
   "source": [
    "from main import *\n",
    "%reload_ext main\n",
    "\n",
    "scale = 1\n",
    "stride = 4\n",
    "margin = 40\n",
    "\n",
    "video = cv2.VideoCapture(\"videos/billiard_3_240.mp4\")\n",
    "\n",
    "_, first_frame = video.read()\n",
    "first_frame = preprocess_frame(first_frame, scale=scale)\n",
    "while True:\n",
    "    selected_box = SelectBoxWindow.show_and_get_box(first_frame)\n",
    "    if selected_box[-1] != 0 and selected_box[-2] != 0:\n",
    "        break\n",
    "print(selected_box)\n",
    "# tracker = ObjectTracker(first_frame, selected_box,\n",
    "#                         stride=stride, margin=margin)\n",
    "# show_tracking_animation(video, tracker, scale=scale)\n"
   ]
  },
  {
   "cell_type": "code",
   "execution_count": 11,
   "metadata": {},
   "outputs": [
    {
     "ename": "error",
     "evalue": "OpenCV(4.6.0) D:\\a\\opencv-python\\opencv-python\\opencv\\modules\\imgproc\\src\\color.cpp:182: error: (-215:Assertion failed) !_src.empty() in function 'cv::cvtColor'\n",
     "output_type": "error",
     "traceback": [
      "\u001b[1;31m---------------------------------------------------------------------------\u001b[0m",
      "\u001b[1;31merror\u001b[0m                                     Traceback (most recent call last)",
      "\u001b[1;32mg:\\Studia\\AOC\\main.ipynb Cell 3\u001b[0m in \u001b[0;36m<cell line: 46>\u001b[1;34m()\u001b[0m\n\u001b[0;32m     <a href='vscode-notebook-cell:/g%3A/Studia/AOC/main.ipynb#W6sZmlsZQ%3D%3D?line=46'>47</a>\u001b[0m _, nimg \u001b[39m=\u001b[39m video\u001b[39m.\u001b[39mread()\n\u001b[0;32m     <a href='vscode-notebook-cell:/g%3A/Studia/AOC/main.ipynb#W6sZmlsZQ%3D%3D?line=49'>50</a>\u001b[0m part2 \u001b[39m=\u001b[39m nimg[y\u001b[39m-\u001b[39mmargin:y\u001b[39m+\u001b[39mh\u001b[39m+\u001b[39mmargin, x\u001b[39m-\u001b[39mmargin:x\u001b[39m+\u001b[39mw\u001b[39m+\u001b[39mmargin]\n\u001b[1;32m---> <a href='vscode-notebook-cell:/g%3A/Studia/AOC/main.ipynb#W6sZmlsZQ%3D%3D?line=51'>52</a>\u001b[0m cy, cx \u001b[39m=\u001b[39m center_of_mass_match(part1, part2, nfeatures\u001b[39m=\u001b[39;49m\u001b[39m30\u001b[39;49m, nOctaveLayers\u001b[39m=\u001b[39;49m\u001b[39m3\u001b[39;49m, sigma\u001b[39m=\u001b[39;49m\u001b[39m1.0\u001b[39;49m, def_yx\u001b[39m=\u001b[39;49m(dy, dx))\n\u001b[0;32m     <a href='vscode-notebook-cell:/g%3A/Studia/AOC/main.ipynb#W6sZmlsZQ%3D%3D?line=52'>53</a>\u001b[0m dy, dx \u001b[39m=\u001b[39m cy, cx\n\u001b[0;32m     <a href='vscode-notebook-cell:/g%3A/Studia/AOC/main.ipynb#W6sZmlsZQ%3D%3D?line=54'>55</a>\u001b[0m _y, _x \u001b[39m=\u001b[39m (cy \u001b[39m+\u001b[39m dy) \u001b[39m/\u001b[39m\u001b[39m/\u001b[39m \u001b[39m2\u001b[39m \u001b[39m+\u001b[39m y \u001b[39m-\u001b[39m part2\u001b[39m.\u001b[39mshape[\u001b[39m0\u001b[39m] \u001b[39m/\u001b[39m\u001b[39m/\u001b[39m \u001b[39m2\u001b[39m, (cx \u001b[39m+\u001b[39m dx) \u001b[39m/\u001b[39m\u001b[39m/\u001b[39m \u001b[39m2\u001b[39m \u001b[39m+\u001b[39m x \u001b[39m-\u001b[39m part2\u001b[39m.\u001b[39mshape[\u001b[39m1\u001b[39m] \u001b[39m/\u001b[39m\u001b[39m/\u001b[39m \u001b[39m2\u001b[39m\n",
      "\u001b[1;32mg:\\Studia\\AOC\\main.ipynb Cell 3\u001b[0m in \u001b[0;36mcenter_of_mass_match\u001b[1;34m(img1, img2, cv2_norm, nfeatures, nOctaveLayers, sigma, def_yx)\u001b[0m\n\u001b[0;32m     <a href='vscode-notebook-cell:/g%3A/Studia/AOC/main.ipynb#W6sZmlsZQ%3D%3D?line=22'>23</a>\u001b[0m \u001b[39mdef\u001b[39;00m \u001b[39mcenter_of_mass_match\u001b[39m(img1: np\u001b[39m.\u001b[39mndarray, img2: np\u001b[39m.\u001b[39mndarray, cv2_norm: \u001b[39mint\u001b[39m \u001b[39m=\u001b[39m cv2\u001b[39m.\u001b[39mNORM_L1, nfeatures\u001b[39m=\u001b[39m\u001b[39m40\u001b[39m, nOctaveLayers: \u001b[39mint\u001b[39m \u001b[39m=\u001b[39m \u001b[39m3\u001b[39m, sigma: \u001b[39mfloat\u001b[39m \u001b[39m=\u001b[39m \u001b[39m1.5\u001b[39m, def_yx\u001b[39m=\u001b[39m(\u001b[39m-\u001b[39m\u001b[39m1\u001b[39m, \u001b[39m-\u001b[39m\u001b[39m1\u001b[39m)):\n\u001b[0;32m     <a href='vscode-notebook-cell:/g%3A/Studia/AOC/main.ipynb#W6sZmlsZQ%3D%3D?line=23'>24</a>\u001b[0m     kp1, dsc1, gray1 \u001b[39m=\u001b[39m get_keypoints(img1, nfeatures, nOctaveLayers, sigma)\n\u001b[1;32m---> <a href='vscode-notebook-cell:/g%3A/Studia/AOC/main.ipynb#W6sZmlsZQ%3D%3D?line=24'>25</a>\u001b[0m     kp2, dsc2, gray2 \u001b[39m=\u001b[39m get_keypoints(img2, nfeatures, nOctaveLayers, sigma)\n\u001b[0;32m     <a href='vscode-notebook-cell:/g%3A/Studia/AOC/main.ipynb#W6sZmlsZQ%3D%3D?line=25'>26</a>\u001b[0m     bf \u001b[39m=\u001b[39m cv2\u001b[39m.\u001b[39mBFMatcher(cv2_norm, crossCheck\u001b[39m=\u001b[39m\u001b[39mTrue\u001b[39;00m)\n\u001b[0;32m     <a href='vscode-notebook-cell:/g%3A/Studia/AOC/main.ipynb#W6sZmlsZQ%3D%3D?line=26'>27</a>\u001b[0m     matches \u001b[39m=\u001b[39m bf\u001b[39m.\u001b[39mmatch(dsc1, dsc2)\n",
      "\u001b[1;32mg:\\Studia\\AOC\\main.ipynb Cell 3\u001b[0m in \u001b[0;36mget_keypoints\u001b[1;34m(img, nfeatures, nOctaveLayers, sigma)\u001b[0m\n\u001b[0;32m     <a href='vscode-notebook-cell:/g%3A/Studia/AOC/main.ipynb#W6sZmlsZQ%3D%3D?line=15'>16</a>\u001b[0m \u001b[39mdef\u001b[39;00m \u001b[39mget_keypoints\u001b[39m(img: np\u001b[39m.\u001b[39mndarray, nfeatures\u001b[39m=\u001b[39m\u001b[39m40\u001b[39m, nOctaveLayers: \u001b[39mint\u001b[39m \u001b[39m=\u001b[39m \u001b[39m3\u001b[39m, sigma: \u001b[39mfloat\u001b[39m \u001b[39m=\u001b[39m \u001b[39m1.5\u001b[39m):\n\u001b[1;32m---> <a href='vscode-notebook-cell:/g%3A/Studia/AOC/main.ipynb#W6sZmlsZQ%3D%3D?line=16'>17</a>\u001b[0m     gray \u001b[39m=\u001b[39m cv2\u001b[39m.\u001b[39;49mcvtColor(img, cv2\u001b[39m.\u001b[39;49mCOLOR_BGR2GRAY)\n\u001b[0;32m     <a href='vscode-notebook-cell:/g%3A/Studia/AOC/main.ipynb#W6sZmlsZQ%3D%3D?line=17'>18</a>\u001b[0m     sift \u001b[39m=\u001b[39m cv2\u001b[39m.\u001b[39mSIFT_create(nfeatures, nOctaveLayers, sigma\u001b[39m=\u001b[39msigma)\n\u001b[0;32m     <a href='vscode-notebook-cell:/g%3A/Studia/AOC/main.ipynb#W6sZmlsZQ%3D%3D?line=18'>19</a>\u001b[0m     kp, dsc \u001b[39m=\u001b[39m sift\u001b[39m.\u001b[39mdetectAndCompute(gray, \u001b[39mNone\u001b[39;00m)\n",
      "\u001b[1;31merror\u001b[0m: OpenCV(4.6.0) D:\\a\\opencv-python\\opencv-python\\opencv\\modules\\imgproc\\src\\color.cpp:182: error: (-215:Assertion failed) !_src.empty() in function 'cv::cvtColor'\n"
     ]
    }
   ],
   "source": [
    "import pytictoc\n",
    "from main import *\n",
    "from matplotlib import pyplot as plt\n",
    "%reload_ext main\n",
    "\n",
    "timer = pytictoc.TicToc()\n",
    "\n",
    "scale = 1\n",
    "stride = 4\n",
    "margin = 40\n",
    "\n",
    "video = cv2.VideoCapture(\"videos/billiard_3.mp4\")\n",
    "\n",
    "\n",
    "\n",
    "def get_keypoints(img: np.ndarray, nfeatures=40, nOctaveLayers: int = 3, sigma: float = 1.5):\n",
    "    gray = cv2.cvtColor(img, cv2.COLOR_BGR2GRAY)\n",
    "    sift = cv2.SIFT_create(nfeatures, nOctaveLayers, sigma=sigma)\n",
    "    kp, dsc = sift.detectAndCompute(gray, None)\n",
    "    return kp, dsc, gray\n",
    "\n",
    "\n",
    "def center_of_mass_match(img1: np.ndarray, img2: np.ndarray, cv2_norm: int = cv2.NORM_L1, nfeatures=40, nOctaveLayers: int = 3, sigma: float = 1.5, def_yx=(-1, -1)):\n",
    "    kp1, dsc1, gray1 = get_keypoints(img1, nfeatures, nOctaveLayers, sigma)\n",
    "    kp2, dsc2, gray2 = get_keypoints(img2, nfeatures, nOctaveLayers, sigma)\n",
    "    bf = cv2.BFMatcher(cv2_norm, crossCheck=True)\n",
    "    matches = bf.match(dsc1, dsc2)\n",
    "    indexes = np.asarray([kp2[m.trainIdx].pt for m in matches], dtype='int')\n",
    "    if len(indexes):\n",
    "        x, y = np.mean(indexes, axis=0, dtype='int')\n",
    "        return y, x\n",
    "\n",
    "    # Not match found\n",
    "    return def_yx\n",
    "\n",
    "\n",
    "_, img = video.read()\n",
    "margin = 10\n",
    "y, x, w, h = (209, 760, 28, 29)\n",
    "y, x, w, h = (324, 197, 38, 36)\n",
    "height, width, _ = img.shape\n",
    "\n",
    "dy, dx = -1, -1\n",
    "part1 = img[y:y+h, x:x+w]\n",
    "parts = []\n",
    "for i in range(820):\n",
    "    _, nimg = video.read()\n",
    "\n",
    "\n",
    "    part2 = nimg[y-margin:y+h+margin, x-margin:x+w+margin]\n",
    "    \n",
    "    cy, cx = center_of_mass_match(part1, part2, nfeatures=30, nOctaveLayers=3, sigma=1.0, def_yx=(dy, dx))\n",
    "    dy, dx = cy, cx\n",
    "\n",
    "    _y, _x = (cy + dy) // 2 + y - part2.shape[0] // 2, (cx + dx) // 2 + x - part2.shape[1] // 2\n",
    "    y, x = min(max(0, _y), height - h), min(max(0, _x), width - w)\n",
    "\n",
    "    frame = cv2.rectangle(np.copy(nimg), (x, y), (x+w, y+h), (0, 0, 255), thickness=1)\n",
    "    # Display the resulting frame\n",
    "    cv2.imshow(\"Frame\", frame)\n",
    "\n",
    "    # Press Q on keyboard to  exit\n",
    "    if cv2.waitKey(25) & 0xFF == ord(\"q\"):\n",
    "        cv2.destroyAllWindows()\n",
    "        break\n",
    "    # dy, dx = cy, cx\n",
    "    img = nimg\n",
    "    \n",
    "cv2.destroyAllWindows()\n"
   ]
  },
  {
   "cell_type": "code",
   "execution_count": 14,
   "metadata": {},
   "outputs": [
    {
     "data": {
      "text/plain": [
       "True"
      ]
     },
     "execution_count": 14,
     "metadata": {},
     "output_type": "execute_result"
    }
   ],
   "source": [
    "import numpy as np\n",
    "import cv2 as cv\n",
    "\n",
    "img = cv.imread(r\"G:\\Studia\\AOC\\zipped\\airboard_1\\240\\airboard_1\\00001.jpg\")\n",
    "gray = cv.cvtColor(img, cv.COLOR_BGR2GRAY)\n",
    "sift = cv.SIFT_create()\n",
    "kp = sift.detect(gray, None)\n",
    "img = cv.drawKeypoints(gray, kp, img)\n",
    "cv.imwrite(\"sift_keypoints.jpg\", img)"
   ]
  }
 ],
 "metadata": {
  "kernelspec": {
   "display_name": "Python 3",
   "language": "python",
   "name": "python3"
  },
  "language_info": {
   "codemirror_mode": {
    "name": "ipython",
    "version": 3
   },
   "file_extension": ".py",
   "mimetype": "text/x-python",
   "name": "python",
   "nbconvert_exporter": "python",
   "pygments_lexer": "ipython3",
   "version": "3.10.5 (tags/v3.10.5:f377153, Jun  6 2022, 16:14:13) [MSC v.1929 64 bit (AMD64)]"
  },
  "orig_nbformat": 4,
  "vscode": {
   "interpreter": {
    "hash": "6a48581e28d45680af6ef7ae6138d429f6e20aecedaea2d4b58ab16969b43f7e"
   }
  }
 },
 "nbformat": 4,
 "nbformat_minor": 2
}
