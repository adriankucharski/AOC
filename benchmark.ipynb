{
 "cells": [
  {
   "cell_type": "code",
   "execution_count": 7,
   "metadata": {},
   "outputs": [],
   "source": [
    "from tracker_seg import SegmentationTracker\n",
    "from benchmark import video_benchmark, load_labels\n",
    "import numpy as np\n",
    "\n",
    "tracker = SegmentationTracker(\n",
    "    fit_per_call=2,\n",
    "    n_estimators=30,\n",
    "    n_jobs=12,\n",
    "    max_depth=15,\n",
    "    max_samples=0.1,\n",
    "    sigma_min=0.5,\n",
    "    sigma_max=3.0,\n",
    "    intensity=True,\n",
    "    edges=True,\n",
    "    texture=True,\n",
    "    preprocess_gamma=0.55,\n",
    "    dataset_size=5,\n",
    "    margin=30,\n",
    "    as_circle_mask=False,\n",
    "    fit_stride=4\n",
    ")\n",
    "\n",
    "\n",
    "data = [\n",
    "    # [\"videos/pingpong_7.mp4\", \"zipped/pingpong_7/30/pingpong_7.txt\", (100, 200)],\n",
    "    [\"videos/Bolt.mp4\", \"zipped/Bolt/groundtruth_rect.txt\", (1, 300)],\n",
    "    [\"videos/car.mp4\", \"zipped/car/30/car.txt\", (1, 200)],\n",
    "    [\"videos/helicopter.mp4\", \"zipped/helicopter/30/helicopter.txt\", (1, 200)],\n",
    "    [\"videos/basketball_3.mp4\", \"zipped/basketball_3/30/basketball_3.txt\"],\n",
    "    [\"videos/billiard_3.mp4\", \"zipped/billiard_3/30/billiard_3.txt\"],\n",
    "    [\"videos/billiard_2.mp4\", \"zipped/billiard_2/30/billiard_2.txt\"],\n",
    "    [\"videos/basketball_1.mp4\", \"zipped/basketball_1/30/basketball_1.txt\"],\n",
    "    [\"videos/basketball_2.mp4\", \"zipped/basketball_2/30/basketball_2.txt\"],\n",
    "    [\"videos/basketball_3.mp4\", \"zipped/basketball_3/30/basketball_3.txt\"],\n",
    "]"
   ]
  },
  {
   "cell_type": "code",
   "execution_count": 8,
   "metadata": {},
   "outputs": [
    {
     "name": "stdout",
     "output_type": "stream",
     "text": [
      "(1, 300)\n"
     ]
    },
    {
     "name": "stderr",
     "output_type": "stream",
     "text": [
      "100%|██████████| 299/299 [00:43<00:00,  6.91it/s]"
     ]
    },
    {
     "name": "stdout",
     "output_type": "stream",
     "text": [
      "videos/Bolt.mp4 (0.5050167224080268, 0.8762541806020067, 0.5233242936150492)\n"
     ]
    },
    {
     "name": "stderr",
     "output_type": "stream",
     "text": [
      "\n"
     ]
    }
   ],
   "source": [
    "for args in data:\n",
    "    tracker.reset()\n",
    "    sr = video_benchmark(*args[:2], tracker, frames=args[2])\n",
    "    print(args[0], sr)\n",
    "    break"
   ]
  },
  {
   "cell_type": "code",
   "execution_count": 3,
   "metadata": {},
   "outputs": [
    {
     "name": "stdout",
     "output_type": "stream",
     "text": [
      "(1, 300)\n"
     ]
    },
    {
     "name": "stderr",
     "output_type": "stream",
     "text": [
      " 18%|█▊        | 53/299 [00:04<00:20, 11.77it/s]\n"
     ]
    },
    {
     "name": "stdout",
     "output_type": "stream",
     "text": [
      "Unexpected exception formatting exception. Falling back to standard exception\n"
     ]
    },
    {
     "name": "stderr",
     "output_type": "stream",
     "text": [
      "Traceback (most recent call last):\n",
      "  File \"e:\\Program Files\\Python\\Python310\\lib\\site-packages\\IPython\\core\\interactiveshell.py\", line 3398, in run_code\n",
      "    exec(code_obj, self.user_global_ns, self.user_ns)\n",
      "  File \"C:\\Users\\Adrian\\AppData\\Local\\Temp\\ipykernel_24052\\1522680711.py\", line 35, in <cell line: 33>\n",
      "    print(random_best_params(vpath, labels_path, frames, 5))\n",
      "  File \"C:\\Users\\Adrian\\AppData\\Local\\Temp\\ipykernel_24052\\1522680711.py\", line 29, in random_best_params\n",
      "    sr = video_benchmark(vpath, labels_path, tracker, frames=frames, show=False)\n",
      "  File \"g:\\Studia\\AOC\\benchmark.py\", line 66, in video_benchmark\n",
      "    pred_box = tracker.get_next_box(pred_box, prev_frame, next_frame)\n",
      "  File \"g:\\Studia\\AOC\\tracker_seg.py\", line 102, in get_next_box\n",
      "  File \"g:\\Studia\\AOC\\tracker_seg.py\", line 81, in __append_data\n",
      "    def __append_data(self, X: np.ndarray, y: np.ndarray):\n",
      "  File \"e:\\Program Files\\Python\\Python310\\lib\\site-packages\\skimage\\_shared\\utils.py\", line 348, in fixed_func\n",
      "    return func(*args, **kwargs)\n",
      "  File \"e:\\Program Files\\Python\\Python310\\lib\\site-packages\\skimage\\feature\\_basic_features.py\", line 186, in multiscale_basic_features\n",
      "    features = list(itertools.chain.from_iterable(all_results))\n",
      "  File \"e:\\Program Files\\Python\\Python310\\lib\\site-packages\\skimage\\feature\\_basic_features.py\", line 174, in <genexpr>\n",
      "    _mutiscale_basic_features_singlechannel(\n",
      "  File \"e:\\Program Files\\Python\\Python310\\lib\\site-packages\\skimage\\feature\\_basic_features.py\", line 89, in _mutiscale_basic_features_singlechannel\n",
      "    ex.map(\n",
      "  File \"e:\\Program Files\\Python\\Python310\\lib\\concurrent\\futures\\_base.py\", line 598, in map\n",
      "    fs = [self.submit(fn, *args) for args in zip(*iterables)]\n",
      "  File \"e:\\Program Files\\Python\\Python310\\lib\\concurrent\\futures\\_base.py\", line 598, in <listcomp>\n",
      "    fs = [self.submit(fn, *args) for args in zip(*iterables)]\n",
      "  File \"e:\\Program Files\\Python\\Python310\\lib\\concurrent\\futures\\thread.py\", line 176, in submit\n",
      "    self._adjust_thread_count()\n",
      "  File \"e:\\Program Files\\Python\\Python310\\lib\\concurrent\\futures\\thread.py\", line 199, in _adjust_thread_count\n",
      "    t.start()\n",
      "  File \"e:\\Program Files\\Python\\Python310\\lib\\threading.py\", line 940, in start\n",
      "    self._started.wait()\n",
      "  File \"e:\\Program Files\\Python\\Python310\\lib\\threading.py\", line 607, in wait\n",
      "    signaled = self._cond.wait(timeout)\n",
      "  File \"e:\\Program Files\\Python\\Python310\\lib\\threading.py\", line 320, in wait\n",
      "    waiter.acquire()\n",
      "KeyboardInterrupt\n",
      "\n",
      "During handling of the above exception, another exception occurred:\n",
      "\n",
      "Traceback (most recent call last):\n",
      "  File \"e:\\Program Files\\Python\\Python310\\lib\\site-packages\\IPython\\core\\interactiveshell.py\", line 1993, in showtraceback\n",
      "    stb = self.InteractiveTB.structured_traceback(\n",
      "  File \"e:\\Program Files\\Python\\Python310\\lib\\site-packages\\IPython\\core\\ultratb.py\", line 1118, in structured_traceback\n",
      "    return FormattedTB.structured_traceback(\n",
      "  File \"e:\\Program Files\\Python\\Python310\\lib\\site-packages\\IPython\\core\\ultratb.py\", line 1012, in structured_traceback\n",
      "    return VerboseTB.structured_traceback(\n",
      "  File \"e:\\Program Files\\Python\\Python310\\lib\\site-packages\\IPython\\core\\ultratb.py\", line 865, in structured_traceback\n",
      "    formatted_exception = self.format_exception_as_a_whole(etype, evalue, etb, number_of_lines_of_context,\n",
      "  File \"e:\\Program Files\\Python\\Python310\\lib\\site-packages\\IPython\\core\\ultratb.py\", line 818, in format_exception_as_a_whole\n",
      "    frames.append(self.format_record(r))\n",
      "  File \"e:\\Program Files\\Python\\Python310\\lib\\site-packages\\IPython\\core\\ultratb.py\", line 736, in format_record\n",
      "    result += ''.join(_format_traceback_lines(frame_info.lines, Colors, self.has_colors, lvals))\n",
      "  File \"e:\\Program Files\\Python\\Python310\\lib\\site-packages\\stack_data\\utils.py\", line 145, in cached_property_wrapper\n",
      "    value = obj.__dict__[self.func.__name__] = self.func(obj)\n",
      "  File \"e:\\Program Files\\Python\\Python310\\lib\\site-packages\\stack_data\\core.py\", line 698, in lines\n",
      "    pieces = self.included_pieces\n",
      "  File \"e:\\Program Files\\Python\\Python310\\lib\\site-packages\\stack_data\\utils.py\", line 145, in cached_property_wrapper\n",
      "    value = obj.__dict__[self.func.__name__] = self.func(obj)\n",
      "  File \"e:\\Program Files\\Python\\Python310\\lib\\site-packages\\stack_data\\core.py\", line 649, in included_pieces\n",
      "    pos = scope_pieces.index(self.executing_piece)\n",
      "  File \"e:\\Program Files\\Python\\Python310\\lib\\site-packages\\stack_data\\utils.py\", line 145, in cached_property_wrapper\n",
      "    value = obj.__dict__[self.func.__name__] = self.func(obj)\n",
      "  File \"e:\\Program Files\\Python\\Python310\\lib\\site-packages\\stack_data\\core.py\", line 628, in executing_piece\n",
      "    return only(\n",
      "  File \"e:\\Program Files\\Python\\Python310\\lib\\site-packages\\executing\\executing.py\", line 164, in only\n",
      "    raise NotOneValueFound('Expected one value, found 0')\n",
      "executing.executing.NotOneValueFound: Expected one value, found 0\n"
     ]
    }
   ],
   "source": [
    "from typing import Tuple\n",
    "import numpy as np\n",
    "from tracker_seg import SegmentationTracker\n",
    "from benchmark import video_benchmark, load_labels\n",
    "\n",
    "def random_best_params(\n",
    "    vpath: str, labels_path: str, frames: Tuple[int, int] = None, num_of_tries: int = 20\n",
    ") -> dict:\n",
    "    args_dict = {}\n",
    "    for _ in range(num_of_tries):\n",
    "        args = {\n",
    "            'fit_per_call': np.random.randint(1, 5, dtype='int'),\n",
    "            'n_estimators': np.random.randint(15, 50, dtype='int'),\n",
    "            'n_jobs': 12,\n",
    "            'max_depth': np.random.randint(5, 25, dtype='int'),\n",
    "            'max_samples': np.random.uniform(0.01, 0.1),\n",
    "            'sigma_min': np.random.uniform(0.5, 1.0),\n",
    "            'sigma_max': np.random.uniform(2.0, 5.0),\n",
    "            'intensity': True,\n",
    "            'edges': True,\n",
    "            'texture': True,\n",
    "            'preprocess_gamma': np.random.uniform(0.5, 1.5),\n",
    "            'dataset_size': np.random.randint(2, 5),\n",
    "            'margin': np.random.randint(25, 50),\n",
    "            'as_circle_mask': False,\n",
    "        }\n",
    "        \n",
    "        tracker = SegmentationTracker(**args)\n",
    "        sr = video_benchmark(vpath, labels_path, tracker, frames=frames, show=False)\n",
    "        args_dict[str(args)] = sr\n",
    "    return args_dict\n",
    "\n",
    "for args in data:\n",
    "    vpath, labels_path, frames = args\n",
    "    print(random_best_params(vpath, labels_path, frames, 5))\n",
    "    break"
   ]
  }
 ],
 "metadata": {
  "kernelspec": {
   "display_name": "Python 3",
   "language": "python",
   "name": "python3"
  },
  "language_info": {
   "codemirror_mode": {
    "name": "ipython",
    "version": 3
   },
   "file_extension": ".py",
   "mimetype": "text/x-python",
   "name": "python",
   "nbconvert_exporter": "python",
   "pygments_lexer": "ipython3",
   "version": "3.10.5"
  },
  "orig_nbformat": 4,
  "vscode": {
   "interpreter": {
    "hash": "6a48581e28d45680af6ef7ae6138d429f6e20aecedaea2d4b58ab16969b43f7e"
   }
  }
 },
 "nbformat": 4,
 "nbformat_minor": 2
}
