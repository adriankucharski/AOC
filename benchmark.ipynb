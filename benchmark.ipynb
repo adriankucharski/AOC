{
 "cells": [
  {
   "cell_type": "code",
   "execution_count": 7,
   "metadata": {},
   "outputs": [],
   "source": [
    "from tracker_seg import SegmentationTracker\n",
    "from benchmark import video_benchmark, load_labels\n",
    "import numpy as np\n",
    "\n",
    "tracker = SegmentationTracker(\n",
    "    fit_per_call=2,\n",
    "    n_estimators=30,\n",
    "    n_jobs=12,\n",
    "    max_depth=15,\n",
    "    max_samples=0.1,\n",
    "    sigma_min=0.5,\n",
    "    sigma_max=5.0,\n",
    "    intensity=True,\n",
    "    edges=True,\n",
    "    texture=True,\n",
    "    preprocess_gamma=0.5,\n",
    "    dataset_size=5,\n",
    "    margin=30,\n",
    "    as_circle_mask=False,\n",
    "    fit_stride=4\n",
    ")\n",
    "\n",
    "\n",
    "data = [\n",
    "    # [\"videos/pingpong_7.mp4\", \"zipped/pingpong_7/30/pingpong_7.txt\", (100, 200)],\n",
    "    # [\"videos/Bolt.mp4\", \"zipped/Bolt/groundtruth_rect.txt\", (1, 300)],\n",
    "    # [\"videos/bee.mp4\", \"zipped/bee/30/bee.txt\", (1, 40)],\n",
    "    # [\"videos/car.mp4\", \"zipped/car/30/car.txt\", (1, 200)],\n",
    "    [\"videos/helicopter.mp4\", \"zipped/helicopter/30/helicopter.txt\", (1, 200)],\n",
    "    # [\"videos/billiard_2.mp4\", \"zipped/billiard_2/30/billiard_2.txt\", (1, 500)],\n",
    "    # [\"videos/billiard_3.mp4\", \"zipped/billiard_3/30/billiard_3.txt\", (1, 500)],\n",
    "    # [\"videos/basketball_1.mp4\", \"zipped/basketball_1/30/basketball_1.txt\", (1, 250)],\n",
    "    # [\"videos/basketball_2.mp4\", \"zipped/basketball_2/30/basketball_2.txt\", (1, 100)],\n",
    "    # [\"videos/basketball_3.mp4\", \"zipped/basketball_3/30/basketball_3.txt\", (1, 400)],\n",
    "]"
   ]
  },
  {
   "cell_type": "code",
   "execution_count": 8,
   "metadata": {},
   "outputs": [
    {
     "name": "stdout",
     "output_type": "stream",
     "text": [
      "(1, 200)\n"
     ]
    },
    {
     "name": "stderr",
     "output_type": "stream",
     "text": [
      "100%|██████████| 199/199 [00:24<00:00,  8.00it/s]"
     ]
    },
    {
     "name": "stdout",
     "output_type": "stream",
     "text": [
      "videos/helicopter.mp4 (0.8994974874371859, 1.0, 0.6783370680955179)\n"
     ]
    },
    {
     "name": "stderr",
     "output_type": "stream",
     "text": [
      "\n"
     ]
    }
   ],
   "source": [
    "for args in data:\n",
    "    tracker.reset()\n",
    "    sr = video_benchmark(*args[:2], tracker, frames=args[2])\n",
    "    print(args[0], sr)\n",
    "    break"
   ]
  }
 ],
 "metadata": {
  "kernelspec": {
   "display_name": "Python 3",
   "language": "python",
   "name": "python3"
  },
  "language_info": {
   "codemirror_mode": {
    "name": "ipython",
    "version": 3
   },
   "file_extension": ".py",
   "mimetype": "text/x-python",
   "name": "python",
   "nbconvert_exporter": "python",
   "pygments_lexer": "ipython3",
   "version": "3.10.5"
  },
  "orig_nbformat": 4,
  "vscode": {
   "interpreter": {
    "hash": "6a48581e28d45680af6ef7ae6138d429f6e20aecedaea2d4b58ab16969b43f7e"
   }
  }
 },
 "nbformat": 4,
 "nbformat_minor": 2
}
